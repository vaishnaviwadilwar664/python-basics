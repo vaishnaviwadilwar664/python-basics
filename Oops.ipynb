{
  "nbformat": 4,
  "nbformat_minor": 0,
  "metadata": {
    "colab": {
      "provenance": []
    },
    "kernelspec": {
      "name": "python3",
      "display_name": "Python 3"
    },
    "language_info": {
      "name": "python"
    }
  },
  "cells": [
    {
      "cell_type": "markdown",
      "source": [
        "1. What is Object-Oriented Programming (OOP)?\n",
        "    -  Object-Oriented Programming (OOP) is a programming paradigm based on the concept of \"objects\", which are instances of classes.\n",
        "    - These objects can contain data (attributes or properties) and functions (called methods) that operate on the data.\n",
        "    - Core components of opp is:\n",
        "            Class\n",
        "            Object\n",
        "            Polymorphism\n",
        "            Abstraction\n",
        "            Inheritance\n",
        "            Enclapsulation\n",
        "2. What is a class in OOP?\n",
        "    - A class in Python is a blueprint or template for creating objects.\n",
        "    - It defines the properties (attributes) and behaviors (methods) that the objects created from the class will have.\n",
        "    - class keyword defines a class.\n",
        "\n",
        "    - __ init __ is a constructor method that gets called when an object is created.\n",
        "\n",
        "    - self refers to the current instance of the class.\n",
        "\n",
        "    - Methods are functions defined inside the class.\n",
        "3. What is an object in OOP?\n",
        "    - An object is an instance of a class.\n",
        "    - In Object-Oriented Programming (OOP), objects represent real-world entities and contains Data (attributes/properties) and Behavior (methods/functions).\n",
        "    - If a class is the blueprint, then an object is the house built from that blueprint.\n",
        "\n",
        "4. What is the difference between abstraction and encapsulation?\n",
        "    - Abstraction hides complex implementation details and shows only essential features.\n",
        "    - Abstraction purpose is to simplify the interface for the user.\n",
        "    - Goal of Abstraction is hiding complexity.\n",
        "    - Encapsulation hides the internal data and restricts direct access to it.\n",
        "    - Encapsulation purpose is to protect the data and maintain control.\n",
        "    - Goal of Encapsulation is data hiding and protection.\n",
        "\n",
        "5. What are dunder methods in Python?\n",
        "    - Dunder methods , also called magic methods, are special predefined methods in Python that start and end with double underscores, like       __ init __, __ str __, __ len __, etc.\n",
        "    - They are used to define how your custom objects behave with built-in Python operations — like printing, comparing, adding, indexing, and more.\n",
        "\n",
        "6. Explain the concept of inheritance in OOP.\n",
        "    - Inheritance is a fundamental concept in OOP where one class (child/subclass) can inherit the properties and behaviors (methods and attributes) of another class (parent/superclass).\n",
        "\n",
        "    - It promotes code reusability, extensibility, and maintainability.\n",
        "    - Inheritance allows a class to acquire the fields and methods of another class.\n",
        "    \n",
        "7. What is polymorphism in OOP?\n",
        "    - Polymorphism means \"many forms\".\n",
        "    - In OOP, it refers to the ability of different objects to respond to the same function or method in different ways.\n",
        "    - Polymorphism achieved in Python through method overriding and dynamic typing.\n",
        "\n",
        "8. How is encapsulation achieved in Python?\n",
        "    - Encapsulation is the concept of hiding internal object details and restricting direct access to some components. It allows controlled access through methods.\n",
        "\n",
        "    - In Python, encapsulation is achieved using access modifiers like , public , private and protected.\n",
        "9. What is a constructor in Python?\n",
        "    - A constructor in Python is the __ init __( ) method used to set up an object with its initial values when it is created.\n",
        "    - It is automatically called when an object is created from a class.\n",
        "10. What are class and static methods in Python?\n",
        "    - Class Method operates on the class, not instance.\n",
        "\n",
        "    - Has access to class variables using cls.\n",
        "\n",
        "    - Defined with the @classmethod decorator.\n",
        "    - Static menthod does not access class (cls) or instance (self) data.\n",
        "\n",
        "    - Used for utility/helper functions inside the class.\n",
        "\n",
        "    - Defined with the @staticmethod decorator.\n",
        "\n",
        "11. What is method overloading in Python?\n",
        "    - Method Overloading means having multiple methods with the same name but different number or types of parameters.\n",
        "    - Python does not support function/method signature overloading like Java/C++.\n",
        "\n",
        "    - If you define a method multiple times with the same name in a class, the last one will override the previous ones.\n",
        "\n",
        "\n",
        "12. What is method overriding in OOP?\n",
        "    - Method Overriding is a feature in Object-Oriented Programming where a child class provides its own implementation of a method that is already defined in its parent class.\n",
        "13. What is a property decorator in Python?\n",
        "    - The @property decorator in Python is used to convert a method into a read-only attribute.\n",
        "    - It allows encapsulation by letting you access methods like attributes, while hiding the implementation details.\n",
        "14. Why is polymorphism important in OOP?\n",
        "    - Polymorphism is a core principle of Object-Oriented Programming (OOP) that allows different objects to be treated through the same interface, even though they may behave differently.\n",
        "15. What is an abstract class in Python?\n",
        "    - An abstract class is a blueprint for other classes.\n",
        "    - It cannot be instantiated on its own and is used to define common structure (methods or properties) that must be implemented by any subclass.\n",
        "\n",
        "\n",
        "16. What are the advantages of OOP?\n",
        "    - Object-Oriented Programming (OOP) provides a structured and modular approach to software design, making it easier to build and maintain complex applications.\n",
        "    -\tReusability : Classes and objects can be reused in other programs using inheritance. This avoids code duplication.\n",
        "    - Clear structure:Code reflects real-world entities, making it easier to understand and relate to.\n",
        "    \n",
        "17. What is the difference between a class variable and an instance variable?\n",
        "  - Class variable:\n",
        "    - Defined in\tInside the class, outside any method\n",
        "    - Memory Usage  Stored once for the entire class.\n",
        "    - Belongs to\tThe class itself.\n",
        "    - Shared by\tAll instances of the class.\n",
        "    - Modified by\tChanging it affects all instances.\n",
        "  - Instance variable:\n",
        "    - Defined in Inside a method (usually __ init __) using self.\n",
        "    - Belongs to Individual objects (instances).\n",
        "    - Shared by Unique for each object.\n",
        "    - Modified by Changing it affects only that object.\n",
        "    - Memory Usage Stored separately for each instance\n",
        "18. What is multiple inheritance in Python?\n",
        "    - Multiple Inheritance is a feature in Python where a class can inherit from more than one parent class.\n",
        "    - This means the child class gets access to the attributes and methods of all its parent classes.\n",
        "\n",
        "\n",
        "19. Explain the purpose of \"__ str __' and ' __ repr __\" methods in Python?\n",
        "  - __ str __:\n",
        "     - Readable string for users.\n",
        "     - Called by the print() function and str() function.\n",
        "\n",
        "     - Returns a user-friendly string representation.\n",
        "\n",
        "     - Meant for readability.\n",
        "  - __ repr __:\n",
        "     - Unambiguous string for developers.\n",
        "     - Called by the interpreter and repr() function.\n",
        "\n",
        "     - Returns a developer-friendly string, ideally something that can recreate the object.\n",
        "\n",
        "     - Meant for debugging.\n",
        "20. What is the significance of the 'super( )'  function in Python?\n",
        "    - The super() function in Python is used to call methods from a parent (super) class.\n",
        "    - It plays a vital role in inheritance, especially in method overriding and multiple inheritance scenarios.\n",
        "21. What is the significance of the __ del __ method in Python?\n",
        "    - The __del__ method in Python is a special (dunder) method known as a destructor.\n",
        "    - It is automatically called when an object is about to be destroyed, typically during garbage collection.\n",
        "22. What is the difference between @staticmethod and @classmethod in Python?\n",
        "  - @staticmethod:\n",
        "     - Doesn't take self or cls as a parameter.\n",
        "\n",
        "     - Behaves like a regular function, but belongs to the class namespace.\n",
        "\n",
        "     - Can be called on the class or instance.\n",
        "  - @classmethod:\n",
        "      - Takes cls as the first argument (refers to the class, not an object).\n",
        "\n",
        "      - Can access/modify class variables.\n",
        "\n",
        "      - Useful for creating alternative constructors.\n",
        "23. How does polymorphism work in Python with inheritance?\n",
        "    - With inheritance, polymorphism allows a child class to provide its own version of a method defined in the parent class.\n",
        "    - So you can write common code that works for any subclass.\n",
        "24. What is method chaining in Python OOP?\n",
        "    - Method chaining is a programming technique where multiple methods are called on the same object in a single line, one after the other.\n",
        "    - Each method returns self, i.e., the current object.\n",
        "\n",
        "    - This lets you call another method immediately on the result.\n",
        "25. What is the purpose of the __ call __ method in Python?\n",
        "    - The __call__ method in Python allows an instance of a class to be called like a function.\n",
        "    - When you define a __ call __( ) method in a class, you can use object-name followed by parentheses ( ) to invoke that method — as if the object itself is a function."
      ],
      "metadata": {
        "id": "5zvTsZVpQ_LA"
      }
    },
    {
      "cell_type": "code",
      "execution_count": 1,
      "metadata": {
        "colab": {
          "base_uri": "https://localhost:8080/"
        },
        "id": "8QQqYA85Q6KV",
        "outputId": "e66ce9bc-e01f-4da6-b354-9ae2ba0cba71"
      },
      "outputs": [
        {
          "output_type": "stream",
          "name": "stdout",
          "text": [
            "The animal makes a sound\n",
            "Bark!\n"
          ]
        }
      ],
      "source": [
        "# 1. Create a parent class Animal with a method speak() that prints a generic message. Create a child class Dog\n",
        "# that overrides the speak() method to print \"Bark!\".\n",
        "\n",
        "# Parent class\n",
        "class Animal:\n",
        "    def speak(self):\n",
        "        print(\"The animal makes a sound\")\n",
        "\n",
        "# Child class\n",
        "class Dog(Animal):\n",
        "    def speak(self):\n",
        "        print(\"Bark!\")\n",
        "\n",
        "# Create objects\n",
        "a = Animal()\n",
        "d = Dog()\n",
        "\n",
        "# Call methods\n",
        "a.speak()   # Output: The animal makes a sound\n",
        "d.speak()   # Output: Bark!\n"
      ]
    },
    {
      "cell_type": "code",
      "source": [
        "# 2. Write a program to create an abstract class Shape with a method area(). Derive classes Circle and Rectangle\n",
        "# from it and implement the area() method in both.\n",
        "\n",
        "from abc import ABC, abstractmethod\n",
        "import math\n",
        "\n",
        "# Abstract class\n",
        "class Shape(ABC):\n",
        "    @abstractmethod\n",
        "    def area(self):\n",
        "        pass\n",
        "\n",
        "# Circle class inherits Shape\n",
        "class Circle(Shape):\n",
        "    def __init__(self, radius):\n",
        "        self.radius = radius\n",
        "\n",
        "    def area(self):\n",
        "        return math.pi * self.radius * self.radius\n",
        "\n",
        "# Rectangle class inherits Shape\n",
        "class Rectangle(Shape):\n",
        "    def __init__(self, width, height):\n",
        "        self.width = width\n",
        "        self.height = height\n",
        "\n",
        "    def area(self):\n",
        "        return self.width * self.height\n",
        "\n",
        "# Create objects and test\n",
        "circle = Circle(5)\n",
        "rectangle = Rectangle(4, 6)\n",
        "\n",
        "print(f\"Area of Circle: {circle.area():.2f}\")\n",
        "print(f\"Area of Rectangle: {rectangle.area()}\")\n"
      ],
      "metadata": {
        "colab": {
          "base_uri": "https://localhost:8080/"
        },
        "id": "igp_J8WLNYy6",
        "outputId": "425b55ec-6d3b-4971-b89a-0cb9b64dfde5"
      },
      "execution_count": 2,
      "outputs": [
        {
          "output_type": "stream",
          "name": "stdout",
          "text": [
            "Area of Circle: 78.54\n",
            "Area of Rectangle: 24\n"
          ]
        }
      ]
    },
    {
      "cell_type": "code",
      "source": [
        "# 3. Implement a multi-level inheritance scenario where a class Vehicle has an attribute type. Derive a class Car\n",
        "# and further derive a class ElectricCar that adds a battery attribute.\n",
        "\n",
        "# Base class\n",
        "class Vehicle:\n",
        "    def __init__(self, vehicle_type):\n",
        "        self.type = vehicle_type\n",
        "\n",
        "    def show_type(self):\n",
        "        print(f\"Vehicle Type: {self.type}\")\n",
        "\n",
        "# Derived class from Vehicle\n",
        "class Car(Vehicle):\n",
        "    def __init__(self, vehicle_type, brand):\n",
        "        super().__init__(vehicle_type)\n",
        "        self.brand = brand\n",
        "\n",
        "    def show_brand(self):\n",
        "        print(f\"Car Brand: {self.brand}\")\n",
        "\n",
        "# Derived class from Car (Multi-level)\n",
        "class ElectricCar(Car):\n",
        "    def __init__(self, vehicle_type, brand, battery_capacity):\n",
        "        super().__init__(vehicle_type, brand)\n",
        "        self.battery = battery_capacity\n",
        "\n",
        "    def show_battery(self):\n",
        "        print(f\"Battery Capacity: {self.battery} kWh\")\n",
        "\n",
        "# Create an ElectricCar object\n",
        "ecar = ElectricCar(\"Four-wheeler\", \"Tesla\", 75)\n",
        "\n",
        "# Display attributes\n",
        "ecar.show_type()       # From Vehicle\n",
        "ecar.show_brand()      # From Car\n",
        "ecar.show_battery()    # From ElectricCar\n"
      ],
      "metadata": {
        "colab": {
          "base_uri": "https://localhost:8080/"
        },
        "id": "fKijCh4LN1Tq",
        "outputId": "85b05b71-01a4-419d-a323-c487b8cac693"
      },
      "execution_count": 3,
      "outputs": [
        {
          "output_type": "stream",
          "name": "stdout",
          "text": [
            "Vehicle Type: Four-wheeler\n",
            "Car Brand: Tesla\n",
            "Battery Capacity: 75 kWh\n"
          ]
        }
      ]
    },
    {
      "cell_type": "code",
      "source": [
        "# 4. Demonstrate polymorphism by creating a base class Bird with a method fly(). Create two derived classes\n",
        "# Sparrow and Penguin that override the fly() method.\n",
        "\n",
        "# Base class\n",
        "class Bird:\n",
        "    def fly(self):\n",
        "        print(\"Some birds can fly.\")\n",
        "\n",
        "# Derived class 1\n",
        "class Sparrow(Bird):\n",
        "    def fly(self):\n",
        "        print(\"Sparrow flies high in the sky.\")\n",
        "\n",
        "# Derived class 2\n",
        "class Penguin(Bird):\n",
        "    def fly(self):\n",
        "        print(\"Penguins cannot fly, they swim.\")\n",
        "\n",
        "# Polymorphic function\n",
        "def make_it_fly(bird):\n",
        "    bird.fly()\n",
        "\n",
        "# Create objects\n",
        "sparrow = Sparrow()\n",
        "penguin = Penguin()\n",
        "\n",
        "# Demonstrate polymorphism\n",
        "make_it_fly(sparrow)\n",
        "make_it_fly(penguin)\n"
      ],
      "metadata": {
        "colab": {
          "base_uri": "https://localhost:8080/"
        },
        "id": "yJeC6-VkOFfa",
        "outputId": "d14b4752-50f5-4fb7-ff3a-559d0f8c8675"
      },
      "execution_count": 4,
      "outputs": [
        {
          "output_type": "stream",
          "name": "stdout",
          "text": [
            "Sparrow flies high in the sky.\n",
            "Penguins cannot fly, they swim.\n"
          ]
        }
      ]
    },
    {
      "cell_type": "code",
      "source": [
        "# 5. Write a program to demonstrate encapsulation by creating a class BankAccount with private attributes\n",
        "# balance and methods to deposit, withdraw, and check balance.\n",
        "\n",
        "class BankAccount:\n",
        "    def __init__(self, initial_balance=0):\n",
        "        self.__balance = initial_balance  # Private attribute\n",
        "\n",
        "    def deposit(self, amount):\n",
        "        if amount > 0:\n",
        "            self.__balance += amount\n",
        "            print(f\"Deposited ₹{amount}\")\n",
        "        else:\n",
        "            print(\"Deposit amount must be positive\")\n",
        "\n",
        "    def withdraw(self, amount):\n",
        "        if 0 < amount <= self.__balance:\n",
        "            self.__balance -= amount\n",
        "            print(f\"Withdrew ₹{amount}\")\n",
        "        else:\n",
        "            print(\"Insufficient balance or invalid amount\")\n",
        "\n",
        "    def check_balance(self):\n",
        "        print(f\"Current Balance: ₹{self.__balance}\")\n",
        "\n",
        "# Test the class\n",
        "account = BankAccount(1000)\n",
        "account.check_balance()     # Output: ₹1000\n",
        "account.deposit(500)        # Output: Deposited ₹500\n",
        "account.withdraw(300)       # Output: Withdrew ₹300\n",
        "account.check_balance()     # Output: ₹1200\n",
        "\n",
        "# Trying to access private variable directly (should fail)\n",
        "# print(account.__balance)  ❌ AttributeError\n"
      ],
      "metadata": {
        "colab": {
          "base_uri": "https://localhost:8080/"
        },
        "id": "Ba21cQdQOWXS",
        "outputId": "bfe7b6f7-be2a-45c0-9249-be6b11a2dd32"
      },
      "execution_count": 5,
      "outputs": [
        {
          "output_type": "stream",
          "name": "stdout",
          "text": [
            "Current Balance: ₹1000\n",
            "Deposited ₹500\n",
            "Withdrew ₹300\n",
            "Current Balance: ₹1200\n"
          ]
        }
      ]
    },
    {
      "cell_type": "code",
      "source": [
        "# 6. Demonstrate runtime polymorphism using a method play() in a base class Instrument. Derive classes Guitar\n",
        "# and Piano that implement their own version of play().\n",
        "\n",
        "# Base class\n",
        "class Instrument:\n",
        "    def play(self):\n",
        "        print(\"Playing an instrument\")\n",
        "\n",
        "# Derived class: Guitar\n",
        "class Guitar(Instrument):\n",
        "    def play(self):\n",
        "        print(\"Strumming the guitar \")\n",
        "\n",
        "# Derived class: Piano\n",
        "class Piano(Instrument):\n",
        "    def play(self):\n",
        "        print(\"Playing the piano\")\n",
        "\n",
        "# Polymorphic function\n",
        "def start_playing(instrument):\n",
        "    instrument.play()\n",
        "\n",
        "# Create objects\n",
        "g = Guitar()\n",
        "p = Piano()\n",
        "\n",
        "# Demonstrate runtime polymorphism\n",
        "start_playing(g)\n",
        "start_playing(p)\n"
      ],
      "metadata": {
        "colab": {
          "base_uri": "https://localhost:8080/"
        },
        "id": "qK6pDGFROis-",
        "outputId": "7f1352af-444c-4fc6-def3-880568ba08c6"
      },
      "execution_count": 6,
      "outputs": [
        {
          "output_type": "stream",
          "name": "stdout",
          "text": [
            "Strumming the guitar \n",
            "Playing the piano\n"
          ]
        }
      ]
    },
    {
      "cell_type": "code",
      "source": [
        "# 7. Create a class MathOperations with a class method add_numbers() to add two numbers and a static\n",
        "# method subtract_numbers() to subtract two numbers.\n",
        "\n",
        "class MathOperations:\n",
        "    # Class method to add two numbers\n",
        "    @classmethod\n",
        "    def add_numbers(cls, a, b):\n",
        "        return a + b\n",
        "\n",
        "    # Static method to subtract two numbers\n",
        "    @staticmethod\n",
        "    def subtract_numbers(a, b):\n",
        "        return a - b\n",
        "\n",
        "# Using class method\n",
        "sum_result = MathOperations.add_numbers(10, 5)\n",
        "print(f\"Sum: {sum_result}\")  # Output: Sum: 15\n",
        "\n",
        "# Using static method\n",
        "diff_result = MathOperations.subtract_numbers(10, 5)\n",
        "print(f\"Difference: {diff_result}\")  # Output: Difference: 5\n"
      ],
      "metadata": {
        "colab": {
          "base_uri": "https://localhost:8080/"
        },
        "id": "bspHgJ-gOy39",
        "outputId": "4aa88278-1cb2-46cf-ff8b-45c50057230c"
      },
      "execution_count": 7,
      "outputs": [
        {
          "output_type": "stream",
          "name": "stdout",
          "text": [
            "Sum: 15\n",
            "Difference: 5\n"
          ]
        }
      ]
    },
    {
      "cell_type": "code",
      "source": [
        "# 8. Implement a class Person with a class method to count the total number of persons created.\n",
        "\n",
        "class Person:\n",
        "    # Class variable to count persons\n",
        "    count = 0\n",
        "\n",
        "    def __init__(self, name):\n",
        "        self.name = name\n",
        "        Person.count += 1  # Increment when a new person is created\n",
        "\n",
        "    @classmethod\n",
        "    def total_persons(cls):\n",
        "        return cls.count\n",
        "\n",
        "# Create Person objects\n",
        "p1 = Person(\"Alice\")\n",
        "p2 = Person(\"Bob\")\n",
        "p3 = Person(\"Charlie\")\n",
        "\n",
        "# Call class method to get total persons\n",
        "print(f\"Total persons created: {Person.total_persons()}\")\n"
      ],
      "metadata": {
        "colab": {
          "base_uri": "https://localhost:8080/"
        },
        "id": "OzCIimWaQtfN",
        "outputId": "b8e745d3-b1a2-4db0-aa34-2f2bd677b38a"
      },
      "execution_count": 16,
      "outputs": [
        {
          "output_type": "stream",
          "name": "stdout",
          "text": [
            "Total persons created: 3\n"
          ]
        }
      ]
    },
    {
      "cell_type": "code",
      "source": [
        "# 9. Write a class Fraction with attributes numerator and denominator. Override the str method to display\n",
        "# the fraction as \"numerator/denominator\".\n",
        "\n",
        "class Fraction:\n",
        "    def __init__(self, numerator, denominator):\n",
        "        self.numerator = numerator\n",
        "        self.denominator = denominator\n",
        "\n",
        "    def __str__(self):\n",
        "        return f\"{self.numerator}/{self.denominator}\"\n",
        "\n",
        "# Create Fraction objects\n",
        "f1 = Fraction(3, 4)\n",
        "f2 = Fraction(7, 2)\n",
        "\n",
        "# Print fractions\n",
        "print(f\"Fraction 1: {f1}\")   # Output: 3/4\n",
        "print(f\"Fraction 2: {f2}\")   # Output: 7/2\n"
      ],
      "metadata": {
        "colab": {
          "base_uri": "https://localhost:8080/"
        },
        "id": "D3I-11MKQ5Q7",
        "outputId": "ff992552-67fd-422d-f33f-113137516d4e"
      },
      "execution_count": 17,
      "outputs": [
        {
          "output_type": "stream",
          "name": "stdout",
          "text": [
            "Fraction 1: 3/4\n",
            "Fraction 2: 7/2\n"
          ]
        }
      ]
    },
    {
      "cell_type": "code",
      "source": [
        "# 10. Demonstrate operator overloading by creating a class Vector and overriding the add method to add two vectors.\n",
        "\n",
        "class Vector:\n",
        "    def __init__(self, x, y):\n",
        "        self.x = x\n",
        "        self.y = y\n",
        "\n",
        "    # Override + operator\n",
        "    def __add__(self, other):\n",
        "        return Vector(self.x + other.x, self.y + other.y)\n",
        "\n",
        "    def __str__(self):\n",
        "        return f\"Vector({self.x}, {self.y})\"\n",
        "\n",
        "# Create two Vector objects\n",
        "v1 = Vector(2, 3)\n",
        "v2 = Vector(4, 5)\n",
        "\n",
        "# Add vectors using +\n",
        "result = v1 + v2\n",
        "\n",
        "# Display result\n",
        "print(f\"Vector 1: {v1}\")\n",
        "print(f\"Vector 2: {v2}\")\n",
        "print(f\"Sum: {result}\")\n"
      ],
      "metadata": {
        "colab": {
          "base_uri": "https://localhost:8080/"
        },
        "id": "H5wSiPUORAG0",
        "outputId": "ac99577f-2f10-45cc-ace4-e1d3d3aa6f10"
      },
      "execution_count": 18,
      "outputs": [
        {
          "output_type": "stream",
          "name": "stdout",
          "text": [
            "Vector 1: Vector(2, 3)\n",
            "Vector 2: Vector(4, 5)\n",
            "Sum: Vector(6, 8)\n"
          ]
        }
      ]
    },
    {
      "cell_type": "code",
      "source": [
        "# 11. Create a class Person with attributes name and age. Add a method greet() that prints\n",
        "# \"Hello, my name is {name} and I am {age} years old.\"\n",
        "\n",
        "class Person:\n",
        "    def __init__(self, name, age):\n",
        "        self.name = name\n",
        "        self.age = age\n",
        "\n",
        "    def greet(self):\n",
        "        print(f\"Hello, my name is {self.name} and I am {self.age} years old.\")\n",
        "\n",
        "# Create a Person object\n",
        "p1 = Person(\"Aanya\", 21)\n",
        "\n",
        "# Call the greet method\n",
        "p1.greet()\n"
      ],
      "metadata": {
        "colab": {
          "base_uri": "https://localhost:8080/"
        },
        "id": "IV-gbk_wP_Fh",
        "outputId": "a2c2caa5-cdb2-42a9-84c4-6929d483824c"
      },
      "execution_count": 19,
      "outputs": [
        {
          "output_type": "stream",
          "name": "stdout",
          "text": [
            "Hello, my name is Aanya and I am 21 years old.\n"
          ]
        }
      ]
    },
    {
      "cell_type": "code",
      "source": [
        "# 12. Implement a class Student with attributes name and grades. Create a method average_grade() to\n",
        "# compute the average of the grades.\n",
        "\n",
        "class Student:\n",
        "    def __init__(self, name, grades):\n",
        "        self.name = name\n",
        "        self.grades = grades  # A list of grades\n",
        "\n",
        "    def average_grade(self):\n",
        "        if len(self.grades) == 0:\n",
        "            return 0\n",
        "        return sum(self.grades) / len(self.grades)\n",
        "\n",
        "# Create a Student object\n",
        "student1 = Student(\"Aarav\", [85, 90, 78, 92, 88])\n",
        "\n",
        "# Display information\n",
        "print(f\"Student Name: {student1.name}\")\n",
        "print(f\"Grades: {student1.grades}\")\n",
        "print(f\"Average Grade: {student1.average_grade():.2f}\")\n"
      ],
      "metadata": {
        "colab": {
          "base_uri": "https://localhost:8080/"
        },
        "id": "S-NxBu7wQign",
        "outputId": "a7ecbed5-a9ad-40ea-d7c2-06d76124786b"
      },
      "execution_count": 15,
      "outputs": [
        {
          "output_type": "stream",
          "name": "stdout",
          "text": [
            "Student Name: Aarav\n",
            "Grades: [85, 90, 78, 92, 88]\n",
            "Average Grade: 86.60\n"
          ]
        }
      ]
    },
    {
      "cell_type": "code",
      "source": [
        "# 13. Create a class Rectangle with methods set_dimensions() to set the dimensions and area() to calculate the area.\n",
        "\n",
        "class Rectangle:\n",
        "    def __init__(self):\n",
        "        self.length = 0\n",
        "        self.width = 0\n",
        "\n",
        "    def set_dimensions(self, length, width):\n",
        "        self.length = length\n",
        "        self.width = width\n",
        "\n",
        "    def area(self):\n",
        "        return self.length * self.width\n",
        "\n",
        "# Create a Rectangle object\n",
        "rect = Rectangle()\n",
        "\n",
        "# Set dimensions\n",
        "rect.set_dimensions(10, 5)\n",
        "\n",
        "# Display area\n",
        "print(f\"Length: {rect.length}\")\n",
        "print(f\"Width: {rect.width}\")\n",
        "print(f\"Area of Rectangle: {rect.area()}\")\n"
      ],
      "metadata": {
        "colab": {
          "base_uri": "https://localhost:8080/"
        },
        "id": "nibjr6ZrQZL0",
        "outputId": "7654b1b8-97e7-4426-e12e-7677cfc23d83"
      },
      "execution_count": 14,
      "outputs": [
        {
          "output_type": "stream",
          "name": "stdout",
          "text": [
            "Length: 10\n",
            "Width: 5\n",
            "Area of Rectangle: 50\n"
          ]
        }
      ]
    },
    {
      "cell_type": "code",
      "source": [
        "# 14. Create a class Employee with a method calculate_salary() that computes the salary based on hours worked\n",
        "# and hourly rate. Create a derived class Manager that adds a bonus to the salary\n",
        "\n",
        "# Base class\n",
        "class Employee:\n",
        "    def __init__(self, name, hours_worked, hourly_rate):\n",
        "        self.name = name\n",
        "        self.hours_worked = hours_worked\n",
        "        self.hourly_rate = hourly_rate\n",
        "\n",
        "    def calculate_salary(self):\n",
        "        return self.hours_worked * self.hourly_rate\n",
        "\n",
        "# Derived class\n",
        "class Manager(Employee):\n",
        "    def __init__(self, name, hours_worked, hourly_rate, bonus):\n",
        "        super().__init__(name, hours_worked, hourly_rate)\n",
        "        self.bonus = bonus\n",
        "\n",
        "    def calculate_salary(self):\n",
        "        base_salary = super().calculate_salary()\n",
        "        return base_salary + self.bonus\n",
        "\n",
        "# Create objects\n",
        "emp = Employee(\"Alice\", 40, 300)\n",
        "mgr = Manager(\"Bob\", 40, 300, 5000)\n",
        "\n",
        "# Display salaries\n",
        "print(f\"{emp.name}'s Salary: ₹{emp.calculate_salary()}\")\n",
        "print(f\"{mgr.name}'s Salary (with bonus): ₹{mgr.calculate_salary()}\")\n"
      ],
      "metadata": {
        "colab": {
          "base_uri": "https://localhost:8080/"
        },
        "id": "ViEq6c3LQPOI",
        "outputId": "2135c315-f2ca-4c6b-8678-0e0ca0b59fb5"
      },
      "execution_count": 13,
      "outputs": [
        {
          "output_type": "stream",
          "name": "stdout",
          "text": [
            "Alice's Salary: ₹12000\n",
            "Bob's Salary (with bonus): ₹17000\n"
          ]
        }
      ]
    },
    {
      "cell_type": "code",
      "source": [
        "# 15. Create a class Product with attributes name, price, and quantity. Implement a method total_price() that\n",
        "# calculates the total price of the product.\n",
        "\n",
        "class Product:\n",
        "    def __init__(self, name, price, quantity):\n",
        "        self.name = name\n",
        "        self.price = price\n",
        "        self.quantity = quantity\n",
        "\n",
        "    def total_price(self):\n",
        "        return self.price * self.quantity\n",
        "\n",
        "# Create a Product object\n",
        "product1 = Product(\"Laptop\", 45000, 2)\n",
        "\n",
        "# Display total price\n",
        "print(f\"Product: {product1.name}\")\n",
        "print(f\"Price per unit: ₹{product1.price}\")\n",
        "print(f\"Quantity: {product1.quantity}\")\n",
        "print(f\"Total Price: ₹{product1.total_price()}\")\n"
      ],
      "metadata": {
        "colab": {
          "base_uri": "https://localhost:8080/"
        },
        "id": "WxmVlqguQBmG",
        "outputId": "039c14d1-dd42-4141-c153-83a338b8e24e"
      },
      "execution_count": 12,
      "outputs": [
        {
          "output_type": "stream",
          "name": "stdout",
          "text": [
            "Product: Laptop\n",
            "Price per unit: ₹45000\n",
            "Quantity: 2\n",
            "Total Price: ₹90000\n"
          ]
        }
      ]
    },
    {
      "cell_type": "code",
      "source": [
        "# 16. Create a class Animal with an abstract method sound(). Create two derived classes Cow and Sheep\n",
        "# that implement the sound() method.\n",
        "\n",
        "from abc import ABC, abstractmethod\n",
        "\n",
        "# Abstract base class\n",
        "class Animal(ABC):\n",
        "    @abstractmethod\n",
        "    def sound(self):\n",
        "        pass\n",
        "\n",
        "# Derived class: Cow\n",
        "class Cow(Animal):\n",
        "    def sound(self):\n",
        "        print(\"Cow says: Moo!\")\n",
        "\n",
        "# Derived class: Sheep\n",
        "class Sheep(Animal):\n",
        "    def sound(self):\n",
        "        print(\"Sheep says: Baa!\")\n",
        "\n",
        "# Create objects and call the sound method\n",
        "c = Cow()\n",
        "s = Sheep()\n",
        "\n",
        "c.sound()  # Output: Cow says: Moo!\n",
        "s.sound()  # Output: Sheep says: Baa!\n"
      ],
      "metadata": {
        "colab": {
          "base_uri": "https://localhost:8080/"
        },
        "id": "EUtOTnJWPw21",
        "outputId": "317431d9-ea96-49c5-a5e7-0eb14482c3bc"
      },
      "execution_count": 11,
      "outputs": [
        {
          "output_type": "stream",
          "name": "stdout",
          "text": [
            "Cow says: Moo!\n",
            "Sheep says: Baa!\n"
          ]
        }
      ]
    },
    {
      "cell_type": "code",
      "source": [
        "# 17. Create a class Book with attributes title, author, and year_published. Add a method get_book_info() that\n",
        "# returns a formatted string with the book's details.\n",
        "\n",
        "class Book:\n",
        "    def __init__(self, title, author, year_published):\n",
        "        self.title = title\n",
        "        self.author = author\n",
        "        self.year_published = year_published\n",
        "\n",
        "    def get_book_info(self):\n",
        "        return f\"'{self.title}' by {self.author} (Published in {self.year_published})\"\n",
        "\n",
        "# Create a Book object\n",
        "book1 = Book(\"To Kill a Mockingbird\", \"Harper Lee\", 1960)\n",
        "\n",
        "# Display book information\n",
        "print(book1.get_book_info())\n"
      ],
      "metadata": {
        "colab": {
          "base_uri": "https://localhost:8080/"
        },
        "id": "kjx8JTzkPS7L",
        "outputId": "17efa015-fb33-4b33-913b-d3e752bd2727"
      },
      "execution_count": 10,
      "outputs": [
        {
          "output_type": "stream",
          "name": "stdout",
          "text": [
            "'To Kill a Mockingbird' by Harper Lee (Published in 1960)\n"
          ]
        }
      ]
    },
    {
      "cell_type": "code",
      "source": [
        "# 18. Create a class House with attributes address and price. Create a derived class Mansion that adds\n",
        "# an attribute number_of_rooms.\n",
        "\n",
        "# Base class\n",
        "class House:\n",
        "    def __init__(self, address, price):\n",
        "        self.address = address\n",
        "        self.price = price\n",
        "\n",
        "    def display_info(self):\n",
        "        print(f\"Address: {self.address}\")\n",
        "        print(f\"Price: ₹{self.price}\")\n",
        "\n",
        "# Derived class\n",
        "class Mansion(House):\n",
        "    def __init__(self, address, price, number_of_rooms):\n",
        "        super().__init__(address, price)\n",
        "        self.number_of_rooms = number_of_rooms\n",
        "\n",
        "    def display_info(self):\n",
        "        super().display_info()\n",
        "        print(f\"Number of Rooms: {self.number_of_rooms}\")\n",
        "\n",
        "# Test the classes\n",
        "m = Mansion(\"123 Elite Avenue\", 50000000, 10)\n",
        "m.display_info()\n"
      ],
      "metadata": {
        "colab": {
          "base_uri": "https://localhost:8080/"
        },
        "id": "krsy_uDoPFtI",
        "outputId": "6af17d8e-9645-4515-beba-b7fc6bdbdf93"
      },
      "execution_count": 8,
      "outputs": [
        {
          "output_type": "stream",
          "name": "stdout",
          "text": [
            "Address: 123 Elite Avenue\n",
            "Price: ₹50000000\n",
            "Number of Rooms: 10\n"
          ]
        }
      ]
    }
  ]
}