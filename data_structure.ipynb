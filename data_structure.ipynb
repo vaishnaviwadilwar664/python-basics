{
  "nbformat": 4,
  "nbformat_minor": 0,
  "metadata": {
    "colab": {
      "provenance": []
    },
    "kernelspec": {
      "name": "python3",
      "display_name": "Python 3"
    },
    "language_info": {
      "name": "python"
    }
  },
  "cells": [
    {
      "cell_type": "markdown",
      "source": [
        "1. What are data structures, and why are they important?\n",
        "  - Data structures are the way of organizing and storing data in a computer so that it can be accessed and modified efficiently.\n",
        "  - For accessing and modifying the data whenever you need data structure is very important.\n",
        "2. Explain the difference between mutable and immutable data types with examples.\n",
        "  - Mutable data types means we can modify the objects after creation.\n",
        "  - ex. List, Set, Dict...\n",
        "  - Immutable data types means we cannot modify the objects after creation.\n",
        "  - ex. Tuple, string...\n",
        "3. What are the main differences between lists and tuples in Python?\n",
        "  - Lists are mutable and tuples are immutable.\n",
        "  - Elements are stored in lists using [ ] square brackets.\n",
        "  - Elements are stored in tuples using ( ) paranthesis.\n",
        "4. Describe how dictionaries store data.\n",
        "  - Dictionaries are stores data as key-value pairs.\n",
        "  - dictionaries are mutable.\n",
        "  - it is unordered collection of data.\n",
        "  - index is represented by keys.\n",
        "5. Why might you use a set instead of a list in Python?\n",
        "  - Because the set are not allowed the duplicates values and lists are allowed for this we have to use set instead of the lists.\n",
        "6. What is a string in Python, and how is it different from a list?\n",
        "  - A string is a sequence of characters enclosed in quotes ( ' ' , \" \" ).\n",
        "  - it is immutable.\n",
        "  - used to store test data.\n",
        "  - Lists is a collection of different data types.\n",
        "  - it is mutable.\n",
        "  - it is used to store any data types.\n",
        "7. How do tuples ensure data integrity in Python?\n",
        "  - tuples are immutable means they are not modify, update after creation.\n",
        "8. What is a hash table, and how does it relate to dictionaries in Python?\n",
        "  - A hash table is a data structure that stores key-value pairs and allows for fast data access using a key.\n",
        "  - keys are represented as index.\n",
        "  - The dict (dictionary) is implemented internally using a hash table.\n",
        "9. Can lists contain different data types in Python?\n",
        "  - yes, lists contain different data types in Python.\n",
        "10. Explain why strings are immutable in Python.\n",
        "  - Immutability allows safe sharing and memory optimization.\n",
        "  - data integrety will be done.\n",
        "11. What advantages do dictionaries offer over lists for certain tasks?\n",
        "  - Dictionaries use named keys instead of relying on index positions.\n",
        "  - Can easily add, remove, or update values using keys.\n",
        "  \n",
        "12. Describe a scenario where using a tuple would be preferable over a list.\n",
        "  - A tuple is preferable over a list when you need a fixed, unchangeable group of items — in other words, when immutability is beneficial.\n",
        "13. How do sets handle duplicate values in Python?\n",
        "  - In Python, sets automatically remove duplicate values.\n",
        "  - A set is an unordered collection of unique, immutable elements.\n",
        "14. How does the “in” keyword work differently for lists and dictionaries?\n",
        "  - lists checks if a value exists in the list or not and it return boolean value.\n",
        "  - dictionary checks if a key exists in the key : value pair or not and it also return answer in boolean form.\n",
        "15. Can you modify the elements of a tuple? Explain why or why not.\n",
        "  - No, we cannot modify the elements of a tuple because,\n",
        "  - tuples are immutable,means they are not change after the creation.\n",
        "16. What is a nested dictionary, and give an example of its use case?\n",
        "  - nested dictionary means dict in another dict.\n",
        "  - ex.\n",
        "          students = {\n",
        "             \"101\": {\n",
        "                   \"name\": \"Vaishnavi\",\n",
        "                   \"age\": 21,\n",
        "                   \"course\": \"BScIT\"\n",
        "             },\n",
        "            \"102\": {\n",
        "                  \"name\": \"Rahul\",\n",
        "                  \"age\": 22,\n",
        "                  \"course\": \"BScCS\"\n",
        "            }\n",
        "          }\n",
        "\n",
        "          # Accessing a nested value\n",
        "          print(students[\"101\"][\"name\"])  # Output: Vaishnavi\n",
        "\n",
        "17. Describe the time complexity of accessing elements in a dictionary.\n",
        "  -\n",
        "18. In what situations are lists preferred over dictionaries?\n",
        "  - If you're only storing a sequence of values without needing labels, a list is simpler.\n",
        "  - Lists allow repeating elements, unlike sets or dictionary keys.\n",
        "  - Lists can be easily sorted or sliced by index.\n",
        "19. Why are dictionaries considered unordered, and how does that affect data retrieval?\n",
        "  - dictionaries were considered unordered because, They used a hash table that did not preserve the insertion order of key-value pairs.\n",
        "  -  dictionaries are still primarily designed for key-based access, not order-based access like lists.\n",
        "\n",
        "20. Explain the difference between a list and a dictionary in terms of data retrieval.\n",
        "  - In lists Elements are stored in order.\n",
        "  - Access is done using integer indexes starting from 0.\n",
        "  - Elements are stored as key-value pairs.\n",
        "  - Access is done using keys, not indexes."
      ],
      "metadata": {
        "id": "88UQU9Oec-ZG"
      }
    },
    {
      "cell_type": "code",
      "source": [
        "# 1. Write a code to create a string with your name and print it.\n",
        "\n",
        "my_name = \"Vaishnavi\"\n",
        "print(\"My name is:\", my_name)\n"
      ],
      "metadata": {
        "id": "cGTEZSfGdCPO",
        "colab": {
          "base_uri": "https://localhost:8080/"
        },
        "outputId": "949f0142-79ae-4805-dbc9-ec38d697980b"
      },
      "execution_count": 1,
      "outputs": [
        {
          "output_type": "stream",
          "name": "stdout",
          "text": [
            "My name is: Vaishnavi\n"
          ]
        }
      ]
    },
    {
      "cell_type": "code",
      "source": [
        "# 2. Write a code to find the length of the string \"Hello World\".\n",
        "\n",
        "text = \"Hello World\"\n",
        "length = len(text)\n",
        "print(\"Length of the string is:\", length)\n"
      ],
      "metadata": {
        "colab": {
          "base_uri": "https://localhost:8080/"
        },
        "id": "W6xDfeFoPpN4",
        "outputId": "8c914c2b-b667-4176-eaaf-8f94a30b610c"
      },
      "execution_count": 2,
      "outputs": [
        {
          "output_type": "stream",
          "name": "stdout",
          "text": [
            "Length of the string is: 11\n"
          ]
        }
      ]
    },
    {
      "cell_type": "code",
      "source": [
        "# 3.  Write a code to slice the first 3 characters from the string \"Python Programming\".\n",
        "\n",
        "text = \"Python Programming\"\n",
        "sliced_text = text[:3]\n",
        "print(\"First 3 characters:\", sliced_text)\n"
      ],
      "metadata": {
        "colab": {
          "base_uri": "https://localhost:8080/"
        },
        "id": "2Xr_R6WvP6mg",
        "outputId": "99fb471d-c819-47fe-d34b-e805865b849b"
      },
      "execution_count": 4,
      "outputs": [
        {
          "output_type": "stream",
          "name": "stdout",
          "text": [
            "First 3 characters: Pyt\n"
          ]
        }
      ]
    },
    {
      "cell_type": "code",
      "source": [
        "# 4. Write a code to convert the string \"hello\" to uppercase\n",
        "\n",
        "text = \"hello\"\n",
        "uppercase_text = text.upper()\n",
        "print(\"Uppercase:\", uppercase_text)\n"
      ],
      "metadata": {
        "colab": {
          "base_uri": "https://localhost:8080/"
        },
        "id": "SEUwvVr1QSfL",
        "outputId": "ce247187-72d7-4c33-b6b6-e52ea676a9e1"
      },
      "execution_count": 5,
      "outputs": [
        {
          "output_type": "stream",
          "name": "stdout",
          "text": [
            "Uppercase: HELLO\n"
          ]
        }
      ]
    },
    {
      "cell_type": "code",
      "source": [
        "# 5. Write a code to replace the word \"apple\" with \"orange\" in the string \"I like apple\"\n",
        "\n",
        "text = \"I like apple\"\n",
        "new_text = text.replace(\"apple\", \"orange\")\n",
        "print(\"Updated string:\", new_text)\n"
      ],
      "metadata": {
        "colab": {
          "base_uri": "https://localhost:8080/"
        },
        "id": "cOMxTM63QaGq",
        "outputId": "bb76928a-77fb-47c0-bd94-2d4004426d83"
      },
      "execution_count": 6,
      "outputs": [
        {
          "output_type": "stream",
          "name": "stdout",
          "text": [
            "Updated string: I like orange\n"
          ]
        }
      ]
    },
    {
      "cell_type": "code",
      "source": [
        "# 6.  Write a code to create a list with numbers 1 to 5 and print it.\n",
        "\n",
        "numbers = [1, 2, 3, 4, 5]\n",
        "print(\"List of numbers:\", numbers)\n"
      ],
      "metadata": {
        "colab": {
          "base_uri": "https://localhost:8080/"
        },
        "id": "sXRvXnAfQ4dM",
        "outputId": "b1e444f8-bc92-4579-eb0a-94d946ef56f4"
      },
      "execution_count": 7,
      "outputs": [
        {
          "output_type": "stream",
          "name": "stdout",
          "text": [
            "List of numbers: [1, 2, 3, 4, 5]\n"
          ]
        }
      ]
    },
    {
      "cell_type": "code",
      "source": [
        "# 7. Write a code to append the number 10 to the list [1, 2, 3, 4].\n",
        "\n",
        "numbers = [1, 2, 3, 4]\n",
        "numbers.append(10)\n",
        "print(\"Updated list:\", numbers)\n"
      ],
      "metadata": {
        "colab": {
          "base_uri": "https://localhost:8080/"
        },
        "id": "aqAVUcYNQcOt",
        "outputId": "f3c40b15-f3a3-4bca-e833-cc0d003de516"
      },
      "execution_count": 8,
      "outputs": [
        {
          "output_type": "stream",
          "name": "stdout",
          "text": [
            "Updated list: [1, 2, 3, 4, 10]\n"
          ]
        }
      ]
    },
    {
      "cell_type": "code",
      "source": [
        "# 8. Write a code to remove the number 3 from the list [1, 2, 3, 4, 5].\n",
        "\n",
        "numbers = [1, 2, 3, 4, 5]\n",
        "numbers.remove(3)\n",
        "print(\"Updated list:\", numbers)\n"
      ],
      "metadata": {
        "colab": {
          "base_uri": "https://localhost:8080/"
        },
        "id": "oaV0eO3_RiAz",
        "outputId": "6728086d-2e90-4d53-ec79-41b479d65419"
      },
      "execution_count": 11,
      "outputs": [
        {
          "output_type": "stream",
          "name": "stdout",
          "text": [
            "Updated list: [1, 2, 4, 5]\n"
          ]
        }
      ]
    },
    {
      "cell_type": "code",
      "source": [
        "# 9. Write a code to access the second element in the list ['a', 'b', 'c', 'd'].\n",
        "\n",
        "letters = ['a', 'b', 'c', 'd']\n",
        "second_element = letters[1]\n",
        "print(\"Second element:\", second_element)\n"
      ],
      "metadata": {
        "colab": {
          "base_uri": "https://localhost:8080/"
        },
        "id": "eps5gY0aR-pD",
        "outputId": "e78d3c7d-b4f5-4c0c-eb3c-622abf222925"
      },
      "execution_count": 12,
      "outputs": [
        {
          "output_type": "stream",
          "name": "stdout",
          "text": [
            "Second element: b\n"
          ]
        }
      ]
    },
    {
      "cell_type": "code",
      "source": [
        "# 10. Write a code to reverse the list [10, 20, 30, 40, 50].\n",
        "\n",
        "numbers = [10, 20, 30, 40, 50]\n",
        "numbers.reverse()\n",
        "print(\"Reversed list:\", numbers)\n"
      ],
      "metadata": {
        "colab": {
          "base_uri": "https://localhost:8080/"
        },
        "id": "x-AB45RnSLrY",
        "outputId": "6b18e110-6a08-448f-e075-5b15af4488cd"
      },
      "execution_count": 13,
      "outputs": [
        {
          "output_type": "stream",
          "name": "stdout",
          "text": [
            "Reversed list: [50, 40, 30, 20, 10]\n"
          ]
        }
      ]
    },
    {
      "cell_type": "code",
      "source": [
        "# 11. Write a code to create a tuple with the elements 100, 200, 300 and print it.\n",
        "\n",
        "my_tuple = (100, 200, 300)\n",
        "print(\"Tuple:\", my_tuple)\n"
      ],
      "metadata": {
        "colab": {
          "base_uri": "https://localhost:8080/"
        },
        "id": "hQ7OZPC0SZuY",
        "outputId": "cdd3147b-29d5-48cf-d42d-cf7d83fd6018"
      },
      "execution_count": 14,
      "outputs": [
        {
          "output_type": "stream",
          "name": "stdout",
          "text": [
            "Tuple: (100, 200, 300)\n"
          ]
        }
      ]
    },
    {
      "cell_type": "code",
      "source": [
        "# 12. Write a code to access the second-to-last element of the tuple ('red', 'green', 'blue', 'yellow').\n",
        "\n",
        "colors = ('red', 'green', 'blue', 'yellow')\n",
        "second_to_last = colors[-2]\n",
        "print(\"Second-to-last element:\", second_to_last)\n"
      ],
      "metadata": {
        "colab": {
          "base_uri": "https://localhost:8080/"
        },
        "id": "VecDrxvqSZrR",
        "outputId": "7024f018-7e19-4d5b-d0ac-89b8dc711ed6"
      },
      "execution_count": 15,
      "outputs": [
        {
          "output_type": "stream",
          "name": "stdout",
          "text": [
            "Second-to-last element: blue\n"
          ]
        }
      ]
    },
    {
      "cell_type": "code",
      "source": [
        "# 13. Write a code to find the minimum number in the tuple (10, 20, 5, 15).\n",
        "\n",
        "numbers = (10, 20, 5, 15)\n",
        "minimum = min(numbers)\n",
        "print(\"Minimum number:\", minimum)\n"
      ],
      "metadata": {
        "colab": {
          "base_uri": "https://localhost:8080/"
        },
        "id": "0DVlVdaSS1tc",
        "outputId": "5fe85f65-c435-452b-a9f1-284354809ba9"
      },
      "execution_count": 16,
      "outputs": [
        {
          "output_type": "stream",
          "name": "stdout",
          "text": [
            "Minimum number: 5\n"
          ]
        }
      ]
    },
    {
      "cell_type": "code",
      "source": [
        "# 14. Write a code to find the index of the element \"cat\" in the tuple ('dog', 'cat', 'rabbit').\n",
        "\n",
        "animals = ('dog', 'cat', 'rabbit')\n",
        "index_of_cat = animals.index(\"cat\")\n",
        "print(\"Index of 'cat':\", index_of_cat)\n"
      ],
      "metadata": {
        "colab": {
          "base_uri": "https://localhost:8080/"
        },
        "id": "KIY5yjY4TBpf",
        "outputId": "3ab56fab-38ba-435c-e58f-95b40c036bff"
      },
      "execution_count": 17,
      "outputs": [
        {
          "output_type": "stream",
          "name": "stdout",
          "text": [
            "Index of 'cat': 1\n"
          ]
        }
      ]
    },
    {
      "cell_type": "code",
      "source": [
        "# 15.  Write a code to create a tuple containing three different fruits and check if \"kiwi\" is in it.\n",
        "\n",
        "fruits = (\"apple\", \"banana\", \"mango\")\n",
        "if \"kiwi\" in fruits:\n",
        "    print(\"Kiwi is in the tuple.\")\n",
        "else:\n",
        "    print(\"Kiwi is not in the tuple.\")\n"
      ],
      "metadata": {
        "colab": {
          "base_uri": "https://localhost:8080/"
        },
        "id": "x8xk52EITSX-",
        "outputId": "6019b57b-4c74-4778-9fb2-c622cff87b65"
      },
      "execution_count": 18,
      "outputs": [
        {
          "output_type": "stream",
          "name": "stdout",
          "text": [
            "Kiwi is not in the tuple.\n"
          ]
        }
      ]
    },
    {
      "cell_type": "code",
      "source": [
        "# 16. Write a code to create a set with the elements 'a', 'b', 'c' and print it.\n",
        "\n",
        "my_set = {'a', 'b', 'c'}\n",
        "print(\"Set:\", my_set)\n"
      ],
      "metadata": {
        "colab": {
          "base_uri": "https://localhost:8080/"
        },
        "id": "g-OuT8xZTdtN",
        "outputId": "439983a0-09e4-49ef-8e1d-c4356aa62782"
      },
      "execution_count": 19,
      "outputs": [
        {
          "output_type": "stream",
          "name": "stdout",
          "text": [
            "Set: {'a', 'b', 'c'}\n"
          ]
        }
      ]
    },
    {
      "cell_type": "code",
      "source": [
        "# 17. Write a code to clear all elements from the set {1, 2, 3, 4, 5}.\n",
        "\n",
        "numbers = {1, 2, 3, 4, 5}\n",
        "numbers.clear()\n",
        "print(\"Set after clearing:\", numbers)\n"
      ],
      "metadata": {
        "colab": {
          "base_uri": "https://localhost:8080/"
        },
        "id": "ShnUL-dpTrp1",
        "outputId": "51145ee6-4a58-488f-e112-1ed07be524a0"
      },
      "execution_count": 20,
      "outputs": [
        {
          "output_type": "stream",
          "name": "stdout",
          "text": [
            "Set after clearing: set()\n"
          ]
        }
      ]
    },
    {
      "cell_type": "code",
      "source": [
        "# 18. Write a code to remove the element 4 from the set {1, 2, 3, 4}.\n",
        "\n",
        "numbers = {1, 2, 3, 4}\n",
        "numbers.remove(4)\n",
        "print(\"Updated set:\", numbers)\n"
      ],
      "metadata": {
        "colab": {
          "base_uri": "https://localhost:8080/"
        },
        "id": "4Ba3ivdLT47z",
        "outputId": "25209ecb-3195-4188-f4fa-6e18889775fc"
      },
      "execution_count": 21,
      "outputs": [
        {
          "output_type": "stream",
          "name": "stdout",
          "text": [
            "Updated set: {1, 2, 3}\n"
          ]
        }
      ]
    },
    {
      "cell_type": "code",
      "source": [
        "# 19.  Write a code to find the union of two sets {1, 2, 3} and {3, 4, 5}.\n",
        "\n",
        "set1 = {1, 2, 3}\n",
        "set2 = {3, 4, 5}\n",
        "union_set = set1|set2\n",
        "print(\"Union of the sets:\", union_set)\n"
      ],
      "metadata": {
        "colab": {
          "base_uri": "https://localhost:8080/"
        },
        "id": "Qu6hmpqZUITg",
        "outputId": "2227b220-93d8-4ef4-ecef-e1c1421adde2"
      },
      "execution_count": 23,
      "outputs": [
        {
          "output_type": "stream",
          "name": "stdout",
          "text": [
            "Union of the sets: {1, 2, 3, 4, 5}\n"
          ]
        }
      ]
    },
    {
      "cell_type": "code",
      "source": [
        "# 20. Write a code to find the intersection of two sets {1, 2, 3} and {2, 3, 4}.\n",
        "\n",
        "set1 = {1, 2, 3}\n",
        "set2 = {2, 3, 4}\n",
        "intersection_set = set1 & set2\n",
        "print(\"Intersection of the sets:\", intersection_set)\n"
      ],
      "metadata": {
        "colab": {
          "base_uri": "https://localhost:8080/"
        },
        "id": "dHzRcuJ2UbBU",
        "outputId": "40367b00-0d9e-4f1f-f672-41e7eba15cf9"
      },
      "execution_count": 24,
      "outputs": [
        {
          "output_type": "stream",
          "name": "stdout",
          "text": [
            "Intersection of the sets: {2, 3}\n"
          ]
        }
      ]
    },
    {
      "cell_type": "code",
      "source": [
        "# 21.  Write a code to create a dictionary with the keys \"name\", \"age\", and \"city\", and print it.\n",
        "\n",
        "person = {\n",
        "    \"name\": \"Vaishnavi\",\n",
        "    \"age\": 21,\n",
        "    \"city\": \"Mumbai\"\n",
        "}\n",
        "print(\"Dictionary:\", person)\n"
      ],
      "metadata": {
        "colab": {
          "base_uri": "https://localhost:8080/"
        },
        "id": "jsYWiQzzUquD",
        "outputId": "4a1f74ab-955e-4e05-f394-f96480dff114"
      },
      "execution_count": 25,
      "outputs": [
        {
          "output_type": "stream",
          "name": "stdout",
          "text": [
            "Dictionary: {'name': 'Vaishnavi', 'age': 21, 'city': 'Mumbai'}\n"
          ]
        }
      ]
    },
    {
      "cell_type": "code",
      "source": [
        "# 22. Write a code to add a new key-value pair \"country\": \"USA\" to the dictionary {'name': 'John', 'age': 25}.\n",
        "\n",
        "person = {'name': 'John', 'age': 25}\n",
        "person['country'] = 'USA'\n",
        "print(\"Updated dictionary:\", person)\n"
      ],
      "metadata": {
        "colab": {
          "base_uri": "https://localhost:8080/"
        },
        "id": "7bOcTfMlU3-f",
        "outputId": "b542f416-31d3-4827-d6d6-7292c2cfd667"
      },
      "execution_count": 32,
      "outputs": [
        {
          "output_type": "stream",
          "name": "stdout",
          "text": [
            "Updated dictionary: {'name': 'John', 'age': 25, 'country': 'USA'}\n"
          ]
        }
      ]
    },
    {
      "cell_type": "code",
      "source": [
        "# 23.  Write a code to access the value associated with the key \"name\" in the dictionary {'name': 'Alice', 'age': 30}.\n",
        "\n",
        "person = {'name': 'Alice', 'age': 30}\n",
        "name_value = person['name']\n",
        "print(\"Name:\", name_value)\n"
      ],
      "metadata": {
        "colab": {
          "base_uri": "https://localhost:8080/"
        },
        "id": "WTkIFv1JVAr6",
        "outputId": "36765d31-daa4-4abd-86c8-913c3703f7f7"
      },
      "execution_count": 33,
      "outputs": [
        {
          "output_type": "stream",
          "name": "stdout",
          "text": [
            "Name: Alice\n"
          ]
        }
      ]
    },
    {
      "cell_type": "code",
      "source": [
        "# 24.  Write a code to remove the key \"age\" from the dictionary {'name': 'Bob', 'age': 22, 'city': 'New York'}.\n",
        "\n",
        "person = {'name': 'Bob', 'age': 22, 'city': 'New York'}\n",
        "person.pop('age')\n",
        "print(\"Updated dictionary:\", person)\n"
      ],
      "metadata": {
        "colab": {
          "base_uri": "https://localhost:8080/"
        },
        "id": "r6_-oZhDVIxs",
        "outputId": "37fc4635-c91e-42f8-97c7-fb0688344c84"
      },
      "execution_count": 34,
      "outputs": [
        {
          "output_type": "stream",
          "name": "stdout",
          "text": [
            "Updated dictionary: {'name': 'Bob', 'city': 'New York'}\n"
          ]
        }
      ]
    },
    {
      "cell_type": "code",
      "source": [
        "# 25. Write a code to check if the key \"city\" exists in the dictionary {'name': 'Alice', 'city': 'Paris'}.\n",
        "\n",
        "person = {'name': 'Alice', 'city': 'Paris'}\n",
        "if \"city\" in person:\n",
        "    print(\"Key 'city' exists in the dictionary.\")\n",
        "else:\n",
        "    print(\"Key 'city' does not exist in the dictionary.\")\n"
      ],
      "metadata": {
        "colab": {
          "base_uri": "https://localhost:8080/"
        },
        "id": "h4m0H63AVP2O",
        "outputId": "0147738c-f38e-4440-cb4f-9af2d226482a"
      },
      "execution_count": 35,
      "outputs": [
        {
          "output_type": "stream",
          "name": "stdout",
          "text": [
            "Key 'city' exists in the dictionary.\n"
          ]
        }
      ]
    },
    {
      "cell_type": "code",
      "source": [
        "# 26. Write a code to create a list, a tuple, and a dictionary, and print them all.\n",
        "\n",
        "my_list = [10, 20, 30]\n",
        "my_tuple = ('apple', 'banana', 'cherry')\n",
        "my_dict = {'name': 'Alice', 'age': 25}\n",
        "print(\"List:\", my_list)\n",
        "print(\"Tuple:\", my_tuple)\n",
        "print(\"Dictionary:\", my_dict)\n"
      ],
      "metadata": {
        "colab": {
          "base_uri": "https://localhost:8080/"
        },
        "id": "4iqKiwi9VZXl",
        "outputId": "cdc9a451-444d-42ec-998d-c4dbb57b1c8d"
      },
      "execution_count": 36,
      "outputs": [
        {
          "output_type": "stream",
          "name": "stdout",
          "text": [
            "List: [10, 20, 30]\n",
            "Tuple: ('apple', 'banana', 'cherry')\n",
            "Dictionary: {'name': 'Alice', 'age': 25}\n"
          ]
        }
      ]
    },
    {
      "cell_type": "code",
      "source": [
        "# 27.  Write a code to create a list of 5 random numbers between 1 and 100, sort it in ascending order, and print the result.(replaced).\n",
        "\n",
        "import random\n",
        "random_numbers = [random.randint(1, 100) for _ in range(5)]\n",
        "random_numbers.sort()\n",
        "print(\"Sorted random numbers:\", random_numbers)\n"
      ],
      "metadata": {
        "colab": {
          "base_uri": "https://localhost:8080/"
        },
        "id": "4mHJtN8OVhI5",
        "outputId": "acec8f02-a070-4a34-c7ee-546d1fa7587f"
      },
      "execution_count": 37,
      "outputs": [
        {
          "output_type": "stream",
          "name": "stdout",
          "text": [
            "Sorted random numbers: [2, 20, 49, 59, 91]\n"
          ]
        }
      ]
    },
    {
      "cell_type": "code",
      "source": [
        "# 28. Write a code to create a list with strings and print the element at the third index.\n",
        "\n",
        "words = [\"apple\", \"banana\", \"cherry\", \"date\", \"elderberry\"]\n",
        "print(\"Element at third index:\", words[3])\n"
      ],
      "metadata": {
        "colab": {
          "base_uri": "https://localhost:8080/"
        },
        "id": "xIIra34SVv4m",
        "outputId": "74a893f9-3768-4619-b0c3-e57af0122503"
      },
      "execution_count": 38,
      "outputs": [
        {
          "output_type": "stream",
          "name": "stdout",
          "text": [
            "Element at third index: date\n"
          ]
        }
      ]
    },
    {
      "cell_type": "code",
      "source": [
        "# 29. Write a code to combine two dictionaries into one and print the result.\n",
        "\n",
        "dict1 = {'a': 1, 'b': 2}\n",
        "dict2 = {'c': 3, 'd': 4}\n",
        "combined_dict = {**dict1, **dict2}\n",
        "print(\"Combined dictionary:\", combined_dict)\n"
      ],
      "metadata": {
        "colab": {
          "base_uri": "https://localhost:8080/"
        },
        "id": "D17wcjf-WsL2",
        "outputId": "ee838e19-141d-4c4e-beb9-dd6cff0c76d1"
      },
      "execution_count": 39,
      "outputs": [
        {
          "output_type": "stream",
          "name": "stdout",
          "text": [
            "Combined dictionary: {'a': 1, 'b': 2, 'c': 3, 'd': 4}\n"
          ]
        }
      ]
    },
    {
      "cell_type": "code",
      "source": [
        "# 30. Write a code to convert a list of strings into a set.\n",
        "\n",
        "fruits_list = [\"apple\", \"banana\", \"apple\", \"cherry\", \"banana\"]\n",
        "fruits_set = set(fruits_list)\n",
        "print(\"Set of fruits:\", fruits_set)\n"
      ],
      "metadata": {
        "colab": {
          "base_uri": "https://localhost:8080/"
        },
        "id": "c0-lI7aDWDKn",
        "outputId": "fc204afa-0a66-4b6e-b9e3-232365907fec"
      },
      "execution_count": 40,
      "outputs": [
        {
          "output_type": "stream",
          "name": "stdout",
          "text": [
            "Set of fruits: {'banana', 'apple', 'cherry'}\n"
          ]
        }
      ]
    }
  ]
}