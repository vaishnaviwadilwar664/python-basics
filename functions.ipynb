{
  "nbformat": 4,
  "nbformat_minor": 0,
  "metadata": {
    "colab": {
      "provenance": []
    },
    "kernelspec": {
      "name": "python3",
      "display_name": "Python 3"
    },
    "language_info": {
      "name": "python"
    }
  },
  "cells": [
    {
      "cell_type": "markdown",
      "source": [
        "1. What is the difference between a function and a method in Python?\n",
        "  - Function is basically a block of code that performs the specific task and can reuse whenever we want.\n",
        "  - function is called directly using its name.\n",
        "  - Not belongs to any object or class.\n",
        "  -          ex:\n",
        "                   def add(a, b):\n",
        "                       return a + b\n",
        "\n",
        "                   print(add(2, 3))  # Output: 5\n",
        "  - Method is a function that is defined inside a class and is called on an object of that class.\n",
        "  - Method is called using object name + dot -> object.method().\n",
        "  - method is belongs to the class /object.\n",
        "  -ex:\n",
        "         class Calculator:\n",
        "              def add(self, a, b):\n",
        "                  return a + b\n",
        "\n",
        "         calc = Calculator()\n",
        "         print(calc.add(2, 3))  # Output: 5\n",
        "\n",
        "2. Explain the concept of function arguments and parameters in Python.\n",
        "  - Arguments are the actual value passed to the function.\n",
        "  - Parameters are the variable listed in the function definition.\n",
        "  - ex:\n",
        "          def add(a, b):  # 'a' and 'b' are parameters\n",
        "             return a + b\n",
        "\n",
        "          add(5, 3)  # 5 and 3 are arguments\n",
        "\n",
        "3. What are the different ways to define and call a function in Python?\n",
        "  - we can define the function using def function_name():\n",
        "  - we can also define function using lambda.\n",
        "  - we can call the function using function_name().\n",
        "  - ex:\n",
        "          def square(x):\n",
        "             return x * x\n",
        "\n",
        "          print(square(4))  # Calling function\n",
        "\n",
        "          # Lambda function\n",
        "          square = lambda x: x * x\n",
        "          print(square(4))\n",
        "\n",
        "\n",
        "4. What is the purpose of the return statement in a Python function?\n",
        "  - the purpose of the return statement is to the sends a value back from a function to the caller.\n",
        "  - ex:\n",
        "          def multiply(x, y):\n",
        "              return x * y\n",
        "\n",
        "          result = multiply(2, 3)\n",
        "          print(result)  # Output: 6\n",
        "\n",
        "\n",
        "5. What are iterators in Python and how do they differ from iterables?\n",
        "  - An iterator is an object that represents a stream of data; it produces values one at a time using the next() function.\n",
        "\n",
        "  - Iterator are the object with __next__() method.\n",
        "  - An iterable is any Python object that can return its elements one at a time.\n",
        "  - It implements the iter() method.\n",
        "  - ex:\n",
        "          nums = [1, 2, 3]\n",
        "          it = iter(nums)  # Create iterator from interable\n",
        "          print(next(it))  # Output: 1\n",
        "\n",
        "\n",
        "6. Explain the concept of generators in Python and how they are defined.\n",
        "  - A generator is a special type of function that returns an iterator\n",
        "  - Generators are defined like normal functions but use yield instead of return.\n",
        "  - ex:\n",
        "          def countdown(n):\n",
        "             while n > 0:\n",
        "                 yield n\n",
        "                 n -= 1\n",
        "\n",
        "          for i in countdown(3):\n",
        "             print(i)  # Output: 3 2 1\n",
        "\n",
        "7. What are the advantages of using generators over regular functions?\n",
        "  - Generators are faster for the large data sequence.\n",
        "  - generators are memory efficient means do not store all values.\n",
        "  - generators are lazy evaluation, means Values are produced only when they needed using next().\n",
        "  - ex:\n",
        "          def squares():\n",
        "            for i in range(5):\n",
        "               yield i * i\n",
        "\n",
        "          print(list(squares()))  # [0, 1, 4, 9, 16]\n",
        "\n",
        "8. What is a lambda function in Python and when is it typically used?\n",
        "  - A lambda function is a small anonymous (unnamed) function.\n",
        "  - it defined using the keyword lambda instead of def.\n",
        "  - ex:\n",
        "          add = lambda x, y: x + y\n",
        "          print(add(3, 4))  # Output: 7\n",
        "\n",
        "9. Explain the purpose and usage of the map() function in Python.\n",
        "  - map() is a built-in function that applies another function to each item in an iterable (like a list, tuple, etc.)\n",
        "  - it returns a new iterable (specifically, a map object).\n",
        "  - It is commonly used to transform data without writing explicit loops.\n",
        "  - ex:\n",
        "          nums = [1, 2, 3]\n",
        "          squared = map(lambda x: x ** 2, nums)\n",
        "          print(list(squared))  # [1, 4, 9]\n",
        "\n",
        "10. What is the difference between map(), reduce(), and filter() functions in Python?\n",
        "  - map() are applies function to each element which returns Transformed iterable.\n",
        "  - filter() are used to filter the elements based on condition which returns the\tFiltered iterable.\n",
        "  - reduce() are used to reduce a single result\twhich returns the Single value.\n",
        "\n",
        "- ex:\n",
        "          from functools import reduce\n",
        "\n",
        "          nums = [1, 2, 3, 4]\n",
        "\n",
        "          print(list(map(lambda x: x * 2, nums)))     # [2, 4, 6, 8]\n",
        "          print(list(filter(lambda x: x % 2 == 0, nums)))  # [2, 4]\n",
        "          print(reduce(lambda x, y: x + y, nums))     # 10\n",
        "\n",
        "\n",
        "11. Using pen & Paper write the internal mechanism for sum operation using reduce function on this given\n",
        "list:[47,11,42,13];\n",
        "  - image doc file uploaded in the pdf"
      ],
      "metadata": {
        "id": "NJAc9_V7NsSZ"
      }
    },
    {
      "cell_type": "code",
      "execution_count": 35,
      "metadata": {
        "id": "ZgptPE8KNnE2",
        "colab": {
          "base_uri": "https://localhost:8080/"
        },
        "outputId": "c6bc38e8-e980-4658-ed0e-f6ff03170612"
      },
      "outputs": [
        {
          "output_type": "stream",
          "name": "stdout",
          "text": [
            "Sum of even numbers: 12\n"
          ]
        }
      ],
      "source": [
        "# 1. Write a Python function that takes a list of numbers as input and returns the sum of all even numbers in the list.\n",
        "\n",
        "def sum_of_even_numbers(numbers):\n",
        "    even_sum = 0\n",
        "    for num in numbers:\n",
        "        if num % 2 == 0:\n",
        "            even_sum += num\n",
        "    return even_sum\n",
        "my_list = [1, 2, 3, 4, 5, 6]\n",
        "result = sum_of_even_numbers(my_list)\n",
        "print(\"Sum of even numbers:\", result)\n"
      ]
    },
    {
      "cell_type": "code",
      "source": [
        "# 2. Create a Python function that accepts a string and returns the reverse of that string.\n",
        "def reverse_string(s):\n",
        "    return s[::-1]\n",
        "word = \"Python\"\n",
        "reversed_word = reverse_string(word)\n",
        "print(\"Reversed string:\", reversed_word)\n"
      ],
      "metadata": {
        "colab": {
          "base_uri": "https://localhost:8080/"
        },
        "id": "lBSiquwpVDTo",
        "outputId": "e6de3a48-8800-4e1f-a756-b00a76d38287"
      },
      "execution_count": 36,
      "outputs": [
        {
          "output_type": "stream",
          "name": "stdout",
          "text": [
            "Reversed string: nohtyP\n"
          ]
        }
      ]
    },
    {
      "cell_type": "code",
      "source": [
        "# 3. Implement a Python function that takes a list of integers and returns a new list containing the squares of each number.\n",
        "\n",
        "def square_numbers(numbers):\n",
        "    return [num ** 2 for num in numbers]\n",
        "\n",
        "my_list = [1, 2, 3, 4, 5]\n",
        "squared_list = square_numbers(my_list)\n",
        "print(\"Squared numbers:\", squared_list)\n",
        "\n"
      ],
      "metadata": {
        "colab": {
          "base_uri": "https://localhost:8080/"
        },
        "id": "OMJd6J87U2U8",
        "outputId": "9a4163fb-d65d-45ee-eb24-b9ebfa125675"
      },
      "execution_count": 37,
      "outputs": [
        {
          "output_type": "stream",
          "name": "stdout",
          "text": [
            "Squared numbers: [1, 4, 9, 16, 25]\n"
          ]
        }
      ]
    },
    {
      "cell_type": "code",
      "source": [
        "# 4. Write a Python function that checks if a given number is prime or not from 1 to 200.\n",
        "\n",
        "def is_prime(n):\n",
        "    if n < 2 or n > 200:\n",
        "        return False  # Only check between 1 and 200\n",
        "    for i in range(2, int(n**0.5) + 1):\n",
        "        if n % i == 0:\n",
        "            return False\n",
        "    return True\n",
        "\n",
        "for number in range(1, 201):\n",
        "    if is_prime(number):\n",
        "        print(f\"{number} is a prime number\")\n"
      ],
      "metadata": {
        "colab": {
          "base_uri": "https://localhost:8080/"
        },
        "id": "RAYs_x_5Uze0",
        "outputId": "6a2d3325-9e4c-49bc-885f-7a08ad4a590f"
      },
      "execution_count": 39,
      "outputs": [
        {
          "output_type": "stream",
          "name": "stdout",
          "text": [
            "2 is a prime number\n",
            "3 is a prime number\n",
            "5 is a prime number\n",
            "7 is a prime number\n",
            "11 is a prime number\n",
            "13 is a prime number\n",
            "17 is a prime number\n",
            "19 is a prime number\n",
            "23 is a prime number\n",
            "29 is a prime number\n",
            "31 is a prime number\n",
            "37 is a prime number\n",
            "41 is a prime number\n",
            "43 is a prime number\n",
            "47 is a prime number\n",
            "53 is a prime number\n",
            "59 is a prime number\n",
            "61 is a prime number\n",
            "67 is a prime number\n",
            "71 is a prime number\n",
            "73 is a prime number\n",
            "79 is a prime number\n",
            "83 is a prime number\n",
            "89 is a prime number\n",
            "97 is a prime number\n",
            "101 is a prime number\n",
            "103 is a prime number\n",
            "107 is a prime number\n",
            "109 is a prime number\n",
            "113 is a prime number\n",
            "127 is a prime number\n",
            "131 is a prime number\n",
            "137 is a prime number\n",
            "139 is a prime number\n",
            "149 is a prime number\n",
            "151 is a prime number\n",
            "157 is a prime number\n",
            "163 is a prime number\n",
            "167 is a prime number\n",
            "173 is a prime number\n",
            "179 is a prime number\n",
            "181 is a prime number\n",
            "191 is a prime number\n",
            "193 is a prime number\n",
            "197 is a prime number\n",
            "199 is a prime number\n"
          ]
        }
      ]
    },
    {
      "cell_type": "code",
      "source": [
        "# 5. Create an iterator class in Python that generates the Fibonacci sequence up to a specified number of terms.\n",
        "\n",
        "class FibonacciIterator:\n",
        "    def __init__(self, max_terms):\n",
        "        self.max_terms = max_terms\n",
        "        self.count = 0\n",
        "        self.a = 0\n",
        "        self.b = 1\n",
        "\n",
        "    def __iter__(self):\n",
        "        return self\n",
        "\n",
        "    def __next__(self):\n",
        "        if self.count >= self.max_terms:\n",
        "            raise StopIteration\n",
        "        if self.count == 0:\n",
        "            self.count += 1\n",
        "            return self.a\n",
        "        elif self.count == 1:\n",
        "            self.count += 1\n",
        "            return self.b\n",
        "        else:\n",
        "            self.a, self.b = self.b, self.a + self.b\n",
        "            self.count += 1\n",
        "            return self.b\n",
        "fib = FibonacciIterator(10)\n",
        "\n",
        "for num in fib:\n",
        "    print(num, end=\" \")\n"
      ],
      "metadata": {
        "colab": {
          "base_uri": "https://localhost:8080/"
        },
        "id": "7ZxjMdkwUwU8",
        "outputId": "51dd4c25-e360-4ec1-c1d4-8b76afdc5554"
      },
      "execution_count": 40,
      "outputs": [
        {
          "output_type": "stream",
          "name": "stdout",
          "text": [
            "0 1 1 2 3 5 8 13 21 34 "
          ]
        }
      ]
    },
    {
      "cell_type": "code",
      "source": [
        "# 6. Write a generator function in Python that yields the powers of 2 up to a given exponent.\n",
        "\n",
        "def powers_of_two(max_exponent):\n",
        "    for exp in range(max_exponent + 1):\n",
        "        yield 2 ** exp\n",
        "\n",
        "for value in powers_of_two(5):\n",
        "    print(value)\n",
        "\n"
      ],
      "metadata": {
        "colab": {
          "base_uri": "https://localhost:8080/"
        },
        "id": "XVhD7TqbUsKn",
        "outputId": "68482c4b-b964-4d8f-bf1c-2f959db54351"
      },
      "execution_count": 43,
      "outputs": [
        {
          "output_type": "stream",
          "name": "stdout",
          "text": [
            "1\n",
            "2\n",
            "4\n",
            "8\n",
            "16\n",
            "32\n"
          ]
        }
      ]
    },
    {
      "cell_type": "code",
      "source": [
        "# 7. Implement a generator function that reads a file line by line and yields each line as a string.\n",
        "def read_lines(file_path):\n",
        "    with open(file_path, 'r') as file:\n",
        "        for line in file:\n",
        "            yield line.strip()  # .strip() removes leading/trailing whitespace\n",
        "# Suppose you have a text file named \"sample.txt\"\n",
        "for line in read_lines(\"sample.txt\"):\n",
        "    print(line)\n",
        "\n"
      ],
      "metadata": {
        "id": "SFWJR6n1aZRf"
      },
      "execution_count": null,
      "outputs": []
    },
    {
      "cell_type": "code",
      "source": [
        "# 8. Use a lambda function in Python to sort a list of tuples based on the second element of each tuple.\n",
        "\n",
        "# Sample list of tuples\n",
        "data = [(1, 'banana'), (3, 'apple'), (2, 'cherry')]\n",
        "\n",
        "# Sort based on the second element using lambda\n",
        "sorted_data = sorted(data, key=lambda x: x[1])\n",
        "\n",
        "print(sorted_data)\n"
      ],
      "metadata": {
        "colab": {
          "base_uri": "https://localhost:8080/"
        },
        "id": "TvCluOx9UnZ4",
        "outputId": "52b94a9e-085b-4382-e5ab-8f49daed7a20"
      },
      "execution_count": 47,
      "outputs": [
        {
          "output_type": "stream",
          "name": "stdout",
          "text": [
            "[(3, 'apple'), (1, 'banana'), (2, 'cherry')]\n"
          ]
        }
      ]
    },
    {
      "cell_type": "code",
      "source": [
        "# 9. Write a Python program that uses map() to convert a list of temperatures from Celsius to Fahrenheit.\n",
        "# List of temperatures in Celsius\n",
        "celsius_temps = [0, 10, 20, 30, 40, 100]\n",
        "\n",
        "# Convert to Fahrenheit using map() and lambda\n",
        "fahrenheit_temps = list(map(lambda c: (c * 9/5) + 32, celsius_temps))\n",
        "\n",
        "# Output the result\n",
        "print(\"Celsius:\", celsius_temps)\n",
        "print(\"Fahrenheit:\", fahrenheit_temps)\n"
      ],
      "metadata": {
        "colab": {
          "base_uri": "https://localhost:8080/"
        },
        "id": "aH0goymhUksH",
        "outputId": "f7602da8-42b5-427a-993a-00e9fd6644ed"
      },
      "execution_count": 48,
      "outputs": [
        {
          "output_type": "stream",
          "name": "stdout",
          "text": [
            "Celsius: [0, 10, 20, 30, 40, 100]\n",
            "Fahrenheit: [32.0, 50.0, 68.0, 86.0, 104.0, 212.0]\n"
          ]
        }
      ]
    },
    {
      "cell_type": "code",
      "source": [
        "# 10. Create a Python program that uses filter() to remove all the vowels from a given string.\n",
        "def remove_vowels(input_str):\n",
        "    vowels = 'aeiouAEIOU'\n",
        "    result = ''.join(filter(lambda ch: ch not in vowels, input_str))\n",
        "    return result\n",
        "\n",
        "# Example usage\n",
        "text = \"Beautiful Day in Python!\"\n",
        "no_vowels = remove_vowels(text)\n",
        "print(\"Original:\", text)\n",
        "print(\"Without vowels:\", no_vowels)\n"
      ],
      "metadata": {
        "colab": {
          "base_uri": "https://localhost:8080/"
        },
        "id": "5d8pO7ndUidD",
        "outputId": "f7ab1351-d8a8-4807-d1e8-6e07456a18a9"
      },
      "execution_count": 49,
      "outputs": [
        {
          "output_type": "stream",
          "name": "stdout",
          "text": [
            "Original: Beautiful Day in Python!\n",
            "Without vowels: Btfl Dy n Pythn!\n"
          ]
        }
      ]
    }
  ]
}